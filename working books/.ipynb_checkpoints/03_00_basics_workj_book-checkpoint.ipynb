{
 "cells": [
  {
   "cell_type": "code",
   "execution_count": 1,
   "id": "a6b1c252",
   "metadata": {},
   "outputs": [],
   "source": [
    "import pandas as pd\n",
    "from os import path"
   ]
  },
  {
   "cell_type": "code",
   "execution_count": 8,
   "id": "357fac79",
   "metadata": {},
   "outputs": [
    {
     "data": {
      "text/plain": [
       "pandas.core.frame.DataFrame"
      ]
     },
     "execution_count": 8,
     "metadata": {},
     "output_type": "execute_result"
    }
   ],
   "source": [
    "DATA_DIR= \"C:/Users/Justin/Desktop/ltcwbb-files/data\"\n",
    "\n",
    "#### Load the data (2018 se4ason)\n",
    "\n",
    "players = pd.read_csv(path.join(DATA_DIR, '2018-season', 'players.csv'))\n",
    "\n",
    "### Check Data types\n",
    "\n",
    "type(players)"
   ]
  },
  {
   "cell_type": "code",
   "execution_count": 9,
   "id": "e3c7b7e3",
   "metadata": {},
   "outputs": [
    {
     "data": {
      "text/html": [
       "<div>\n",
       "<style scoped>\n",
       "    .dataframe tbody tr th:only-of-type {\n",
       "        vertical-align: middle;\n",
       "    }\n",
       "\n",
       "    .dataframe tbody tr th {\n",
       "        vertical-align: top;\n",
       "    }\n",
       "\n",
       "    .dataframe thead th {\n",
       "        text-align: right;\n",
       "    }\n",
       "</style>\n",
       "<table border=\"1\" class=\"dataframe\">\n",
       "  <thead>\n",
       "    <tr style=\"text-align: right;\">\n",
       "      <th></th>\n",
       "      <th>name</th>\n",
       "      <th>bats</th>\n",
       "      <th>throws</th>\n",
       "      <th>height</th>\n",
       "      <th>weight</th>\n",
       "      <th>playerID</th>\n",
       "      <th>birthYear</th>\n",
       "      <th>birthMonth</th>\n",
       "      <th>birthDay</th>\n",
       "      <th>birthCity</th>\n",
       "      <th>birthState</th>\n",
       "      <th>birthCountry</th>\n",
       "      <th>debut</th>\n",
       "    </tr>\n",
       "  </thead>\n",
       "  <tbody>\n",
       "    <tr>\n",
       "      <th>0</th>\n",
       "      <td>Jose Abreu</td>\n",
       "      <td>R</td>\n",
       "      <td>R</td>\n",
       "      <td>75.0</td>\n",
       "      <td>255.0</td>\n",
       "      <td>abreujo02</td>\n",
       "      <td>1987</td>\n",
       "      <td>1</td>\n",
       "      <td>29</td>\n",
       "      <td>Cienfuegos</td>\n",
       "      <td>Cienfuegos</td>\n",
       "      <td>Cuba</td>\n",
       "      <td>20140331</td>\n",
       "    </tr>\n",
       "    <tr>\n",
       "      <th>1</th>\n",
       "      <td>Ronald Acuna</td>\n",
       "      <td>R</td>\n",
       "      <td>R</td>\n",
       "      <td>72.0</td>\n",
       "      <td>180.0</td>\n",
       "      <td>acunaro01</td>\n",
       "      <td>1997</td>\n",
       "      <td>12</td>\n",
       "      <td>18</td>\n",
       "      <td>La Guaira</td>\n",
       "      <td>Vargas</td>\n",
       "      <td>Venezuela</td>\n",
       "      <td>20180425</td>\n",
       "    </tr>\n",
       "    <tr>\n",
       "      <th>2</th>\n",
       "      <td>Willy Adames</td>\n",
       "      <td>R</td>\n",
       "      <td>R</td>\n",
       "      <td>72.0</td>\n",
       "      <td>200.0</td>\n",
       "      <td>adamewi01</td>\n",
       "      <td>1995</td>\n",
       "      <td>9</td>\n",
       "      <td>2</td>\n",
       "      <td>Santiago</td>\n",
       "      <td>Santiago</td>\n",
       "      <td>D.R.</td>\n",
       "      <td>20180522</td>\n",
       "    </tr>\n",
       "    <tr>\n",
       "      <th>3</th>\n",
       "      <td>Matt Adams</td>\n",
       "      <td>L</td>\n",
       "      <td>R</td>\n",
       "      <td>75.0</td>\n",
       "      <td>245.0</td>\n",
       "      <td>adamsma01</td>\n",
       "      <td>1988</td>\n",
       "      <td>8</td>\n",
       "      <td>31</td>\n",
       "      <td>Philipsburg</td>\n",
       "      <td>PA</td>\n",
       "      <td>USA</td>\n",
       "      <td>20120520</td>\n",
       "    </tr>\n",
       "    <tr>\n",
       "      <th>4</th>\n",
       "      <td>Jim Adduci</td>\n",
       "      <td>L</td>\n",
       "      <td>L</td>\n",
       "      <td>74.0</td>\n",
       "      <td>210.0</td>\n",
       "      <td>adducji02</td>\n",
       "      <td>1985</td>\n",
       "      <td>5</td>\n",
       "      <td>15</td>\n",
       "      <td>Burnaby</td>\n",
       "      <td>BC</td>\n",
       "      <td>CAN</td>\n",
       "      <td>20130901</td>\n",
       "    </tr>\n",
       "  </tbody>\n",
       "</table>\n",
       "</div>"
      ],
      "text/plain": [
       "           name bats throws  height  weight   playerID  birthYear  birthMonth  \\\n",
       "0    Jose Abreu    R      R    75.0   255.0  abreujo02       1987           1   \n",
       "1  Ronald Acuna    R      R    72.0   180.0  acunaro01       1997          12   \n",
       "2  Willy Adames    R      R    72.0   200.0  adamewi01       1995           9   \n",
       "3    Matt Adams    L      R    75.0   245.0  adamsma01       1988           8   \n",
       "4    Jim Adduci    L      L    74.0   210.0  adducji02       1985           5   \n",
       "\n",
       "   birthDay    birthCity  birthState birthCountry     debut  \n",
       "0        29   Cienfuegos  Cienfuegos         Cuba  20140331  \n",
       "1        18    La Guaira      Vargas    Venezuela  20180425  \n",
       "2         2     Santiago    Santiago         D.R.  20180522  \n",
       "3        31  Philipsburg          PA          USA  20120520  \n",
       "4        15      Burnaby          BC          CAN  20130901  "
      ]
     },
     "execution_count": 9,
     "metadata": {},
     "output_type": "execute_result"
    }
   ],
   "source": [
    "players.head()"
   ]
  },
  {
   "cell_type": "code",
   "execution_count": 12,
   "id": "d4a52523",
   "metadata": {},
   "outputs": [
    {
     "data": {
      "text/plain": [
       "name             object\n",
       "bats             object\n",
       "throws           object\n",
       "height          float64\n",
       "weight          float64\n",
       "playerID         object\n",
       "birthYear         int64\n",
       "birthMonth        int64\n",
       "birthDay          int64\n",
       "birthCity        object\n",
       "birthState       object\n",
       "birthCountry     object\n",
       "debut             int64\n",
       "dtype: object"
      ]
     },
     "execution_count": 12,
     "metadata": {},
     "output_type": "execute_result"
    }
   ],
   "source": [
    "#################### INSPECT THE DATA ##########\n",
    "\n",
    "players.dtypes"
   ]
  },
  {
   "cell_type": "code",
   "execution_count": 13,
   "id": "dbcc05c9",
   "metadata": {},
   "outputs": [
    {
     "data": {
      "text/plain": [
       "Index(['name', 'bats', 'throws', 'height', 'weight', 'playerID', 'birthYear',\n",
       "       'birthMonth', 'birthDay', 'birthCity', 'birthState', 'birthCountry',\n",
       "       'debut'],\n",
       "      dtype='object')"
      ]
     },
     "execution_count": 13,
     "metadata": {},
     "output_type": "execute_result"
    }
   ],
   "source": [
    "players.columns"
   ]
  },
  {
   "cell_type": "code",
   "execution_count": 14,
   "id": "92741667",
   "metadata": {},
   "outputs": [],
   "source": [
    "###### This is player information basic, bio info that attaches to a specifica playerID. I assume this will be used as a primary kype to draw relationships"
   ]
  },
  {
   "cell_type": "code",
   "execution_count": 16,
   "id": "5de43f94",
   "metadata": {},
   "outputs": [
    {
     "data": {
      "text/plain": [
       "(825, 13)"
      ]
     },
     "execution_count": 16,
     "metadata": {},
     "output_type": "execute_result"
    }
   ],
   "source": [
    "players.shape"
   ]
  },
  {
   "cell_type": "code",
   "execution_count": 17,
   "id": "cb1824ba",
   "metadata": {},
   "outputs": [],
   "source": [
    "# Look at the shape of the table. (rows, columns). Good way to look at the scope of the file or frame you are looking at"
   ]
  },
  {
   "cell_type": "code",
   "execution_count": 23,
   "id": "6200933a",
   "metadata": {},
   "outputs": [
    {
     "data": {
      "text/html": [
       "<div>\n",
       "<style scoped>\n",
       "    .dataframe tbody tr th:only-of-type {\n",
       "        vertical-align: middle;\n",
       "    }\n",
       "\n",
       "    .dataframe tbody tr th {\n",
       "        vertical-align: top;\n",
       "    }\n",
       "\n",
       "    .dataframe thead th {\n",
       "        text-align: right;\n",
       "    }\n",
       "</style>\n",
       "<table border=\"1\" class=\"dataframe\">\n",
       "  <thead>\n",
       "    <tr style=\"text-align: right;\">\n",
       "      <th></th>\n",
       "      <th>name</th>\n",
       "    </tr>\n",
       "  </thead>\n",
       "  <tbody>\n",
       "    <tr>\n",
       "      <th>0</th>\n",
       "      <td>Jose Abreu</td>\n",
       "    </tr>\n",
       "    <tr>\n",
       "      <th>1</th>\n",
       "      <td>Ronald Acuna</td>\n",
       "    </tr>\n",
       "    <tr>\n",
       "      <th>2</th>\n",
       "      <td>Willy Adames</td>\n",
       "    </tr>\n",
       "    <tr>\n",
       "      <th>3</th>\n",
       "      <td>Matt Adams</td>\n",
       "    </tr>\n",
       "    <tr>\n",
       "      <th>4</th>\n",
       "      <td>Jim Adduci</td>\n",
       "    </tr>\n",
       "  </tbody>\n",
       "</table>\n",
       "</div>"
      ],
      "text/plain": [
       "           name\n",
       "0    Jose Abreu\n",
       "1  Ronald Acuna\n",
       "2  Willy Adames\n",
       "3    Matt Adams\n",
       "4    Jim Adduci"
      ]
     },
     "execution_count": 23,
     "metadata": {},
     "output_type": "execute_result"
    }
   ],
   "source": [
    "##### Referencing columns\n",
    "\n",
    "# players['name'].head()\n",
    "# type(players['name'])\n",
    "\n",
    "#### Creates a ner dataframe out of a single column?\n",
    "names = players['name'].to_frame()\n",
    "# players['name'].to_frame().head()\n",
    "#type(players['name'].to_frame().head())\n",
    "names.head()"
   ]
  },
  {
   "cell_type": "code",
   "execution_count": null,
   "id": "b5a14669",
   "metadata": {},
   "outputs": [],
   "source": []
  },
  {
   "cell_type": "code",
   "execution_count": null,
   "id": "0e397a18",
   "metadata": {},
   "outputs": [],
   "source": []
  }
 ],
 "metadata": {
  "kernelspec": {
   "display_name": "Python 3 (ipykernel)",
   "language": "python",
   "name": "python3"
  },
  "language_info": {
   "codemirror_mode": {
    "name": "ipython",
    "version": 3
   },
   "file_extension": ".py",
   "mimetype": "text/x-python",
   "name": "python",
   "nbconvert_exporter": "python",
   "pygments_lexer": "ipython3",
   "version": "3.9.12"
  }
 },
 "nbformat": 4,
 "nbformat_minor": 5
}
