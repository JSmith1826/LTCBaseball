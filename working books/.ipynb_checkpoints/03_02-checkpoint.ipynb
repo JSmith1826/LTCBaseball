{
 "cells": [
  {
   "cell_type": "code",
   "execution_count": 1,
   "id": "1340d5b9",
   "metadata": {},
   "outputs": [
    {
     "name": "stderr",
     "output_type": "stream",
     "text": [
      "C:\\Users\\Justin\\AppData\\Local\\Temp\\ipykernel_15904\\1985749426.py:14: FutureWarning: Dropping of nuisance columns in DataFrame reductions (with 'numeric_only=None') is deprecated; in a future version this will raise TypeError.  Select only valid columns before calling the reduction.\n",
      "  atbats.mean()\n"
     ]
    },
    {
     "data": {
      "text/plain": [
       "name        Zack Cozart\n",
       "year               2018\n",
       "stint                 2\n",
       "team                WAS\n",
       "lg                   NL\n",
       "G                   162\n",
       "AB                  664\n",
       "R                   129\n",
       "H                   192\n",
       "2B                   51\n",
       "3B                   12\n",
       "HR                   48\n",
       "RBI               130.0\n",
       "SB                 45.0\n",
       "CS                 14.0\n",
       "BB                  130\n",
       "SO                217.0\n",
       "IBB                25.0\n",
       "HBP                22.0\n",
       "SH                 12.0\n",
       "SF                 11.0\n",
       "GIDP               23.0\n",
       "playerID      zuninmi01\n",
       "dtype: object"
      ]
     },
     "execution_count": 1,
     "metadata": {},
     "output_type": "execute_result"
    }
   ],
   "source": [
    "#### SETUP\n",
    "\n",
    "## Depemdemcies\n",
    "\n",
    "import pandas as pd\n",
    "from os import path\n",
    "\n",
    "# Define global variables\n",
    "DATA_DIR = \"C:/Users/Justin/Desktop/ltcwbb-files/data\"\n",
    "\n",
    "atbats = pd.read_csv(path.join(DATA_DIR, '2018-season', 'atbats.csv'))\n",
    "                         \n",
    "## Test\n",
    "atbats.mean()\n",
    "atbats.max()"
   ]
  },
  {
   "cell_type": "code",
   "execution_count": 2,
   "id": "14b301c5",
   "metadata": {},
   "outputs": [
    {
     "data": {
      "text/html": [
       "<div>\n",
       "<style scoped>\n",
       "    .dataframe tbody tr th:only-of-type {\n",
       "        vertical-align: middle;\n",
       "    }\n",
       "\n",
       "    .dataframe tbody tr th {\n",
       "        vertical-align: top;\n",
       "    }\n",
       "\n",
       "    .dataframe thead th {\n",
       "        text-align: right;\n",
       "    }\n",
       "</style>\n",
       "<table border=\"1\" class=\"dataframe\">\n",
       "  <thead>\n",
       "    <tr style=\"text-align: right;\">\n",
       "      <th></th>\n",
       "      <th>name</th>\n",
       "      <th>1B</th>\n",
       "    </tr>\n",
       "  </thead>\n",
       "  <tbody>\n",
       "    <tr>\n",
       "      <th>0</th>\n",
       "      <td>Jose Abreu</td>\n",
       "      <td>73</td>\n",
       "    </tr>\n",
       "    <tr>\n",
       "      <th>1</th>\n",
       "      <td>Ronald Acuna</td>\n",
       "      <td>71</td>\n",
       "    </tr>\n",
       "    <tr>\n",
       "      <th>2</th>\n",
       "      <td>Willy Adames</td>\n",
       "      <td>63</td>\n",
       "    </tr>\n",
       "    <tr>\n",
       "      <th>3</th>\n",
       "      <td>Matt Adams</td>\n",
       "      <td>37</td>\n",
       "    </tr>\n",
       "    <tr>\n",
       "      <th>4</th>\n",
       "      <td>Jim Adduci</td>\n",
       "      <td>34</td>\n",
       "    </tr>\n",
       "  </tbody>\n",
       "</table>\n",
       "</div>"
      ],
      "text/plain": [
       "           name  1B\n",
       "0    Jose Abreu  73\n",
       "1  Ronald Acuna  71\n",
       "2  Willy Adames  63\n",
       "3    Matt Adams  37\n",
       "4    Jim Adduci  34"
      ]
     },
     "execution_count": 2,
     "metadata": {},
     "output_type": "execute_result"
    }
   ],
   "source": [
    "### Axis\n",
    "\n",
    "#atbats[['G', 'AB', 'R', 'H', 'HR']].mean(axis=0)\n",
    "\n",
    "# Inspect top rows\n",
    "# bats[['G', 'AB', 'R', 'H', 'HR']].mean(axis=0).head()\n",
    "\n",
    "\n",
    "atbats['1B'] = atbats['H'] - atbats[['2B', '3B', 'HR']].sum(axis=1)\n",
    "atbats[['name', '1B']].head()\n"
   ]
  },
  {
   "cell_type": "code",
   "execution_count": 4,
   "id": "02ff31ca",
   "metadata": {},
   "outputs": [
    {
     "data": {
      "text/plain": [
       "0.000675310642895732"
      ]
     },
     "execution_count": 4,
     "metadata": {},
     "output_type": "execute_result"
    }
   ],
   "source": [
    "# ### Summart function on boolean columns\n",
    "\n",
    "pp = pd.read_csv(path.join(DATA_DIR, '100-game-sample', 'pitches.csv'))\n",
    "\n",
    "pp['fast_4seam'] = (pp['pitch_type'] == 'FF') & (pp['mph'] >= 100)\n",
    "\n",
    "pp['fast_4seam'].mean()"
   ]
  },
  {
   "cell_type": "code",
   "execution_count": 5,
   "id": "42268ac8",
   "metadata": {},
   "outputs": [
    {
     "data": {
      "text/plain": [
       "20"
      ]
     },
     "execution_count": 5,
     "metadata": {},
     "output_type": "execute_result"
    }
   ],
   "source": [
    "pp['fast_4seam'].sum()"
   ]
  },
  {
   "cell_type": "code",
   "execution_count": 6,
   "id": "2e1f0520",
   "metadata": {},
   "outputs": [
    {
     "data": {
      "text/plain": [
       "True"
      ]
     },
     "execution_count": 6,
     "metadata": {},
     "output_type": "execute_result"
    }
   ],
   "source": [
    "(pp['mph'] >= 104).any()"
   ]
  },
  {
   "cell_type": "code",
   "execution_count": 7,
   "id": "923c77d6",
   "metadata": {},
   "outputs": [
    {
     "data": {
      "text/plain": [
       "False"
      ]
     },
     "execution_count": 7,
     "metadata": {},
     "output_type": "execute_result"
    }
   ],
   "source": [
    "(pp['mph'] >= 60).all()"
   ]
  },
  {
   "cell_type": "code",
   "execution_count": 8,
   "id": "0d9f7544",
   "metadata": {},
   "outputs": [
    {
     "data": {
      "text/plain": [
       "0      False\n",
       "1      False\n",
       "2      False\n",
       "3      False\n",
       "4      False\n",
       "       ...  \n",
       "523    False\n",
       "524    False\n",
       "525    False\n",
       "526    False\n",
       "527    False\n",
       "Length: 528, dtype: bool"
      ]
     },
     "execution_count": 8,
     "metadata": {},
     "output_type": "execute_result"
    }
   ],
   "source": [
    "(atbats[['H', 'SO']] > 200).any(axis=1)"
   ]
  },
  {
   "cell_type": "code",
   "execution_count": 9,
   "id": "4b88b240",
   "metadata": {},
   "outputs": [
    {
     "data": {
      "text/plain": [
       "3"
      ]
     },
     "execution_count": 9,
     "metadata": {},
     "output_type": "execute_result"
    }
   ],
   "source": [
    "(atbats[['H', 'SO']] > 200).any(axis=1).sum()"
   ]
  },
  {
   "cell_type": "code",
   "execution_count": 10,
   "id": "e43b39e5",
   "metadata": {},
   "outputs": [
    {
     "data": {
      "text/plain": [
       "0"
      ]
     },
     "execution_count": 10,
     "metadata": {},
     "output_type": "execute_result"
    }
   ],
   "source": [
    "(atbats[['H', 'SO']] > 200).all(axis=1).sum()"
   ]
  },
  {
   "cell_type": "code",
   "execution_count": 11,
   "id": "35d953c8",
   "metadata": {},
   "outputs": [
    {
     "data": {
      "text/plain": [
       "6"
      ]
     },
     "execution_count": 11,
     "metadata": {},
     "output_type": "execute_result"
    }
   ],
   "source": [
    "(atbats[['H', 'SO']] > 150).all(axis=1).sum()"
   ]
  },
  {
   "cell_type": "code",
   "execution_count": 16,
   "id": "58ca865f",
   "metadata": {},
   "outputs": [
    {
     "data": {
      "text/html": [
       "<div>\n",
       "<style scoped>\n",
       "    .dataframe tbody tr th:only-of-type {\n",
       "        vertical-align: middle;\n",
       "    }\n",
       "\n",
       "    .dataframe tbody tr th {\n",
       "        vertical-align: top;\n",
       "    }\n",
       "\n",
       "    .dataframe thead th {\n",
       "        text-align: right;\n",
       "    }\n",
       "</style>\n",
       "<table border=\"1\" class=\"dataframe\">\n",
       "  <thead>\n",
       "    <tr style=\"text-align: right;\">\n",
       "      <th>pitch_type</th>\n",
       "      <th>CH</th>\n",
       "      <th>CU</th>\n",
       "      <th>EP</th>\n",
       "      <th>FC</th>\n",
       "      <th>FF</th>\n",
       "      <th>FO</th>\n",
       "      <th>FS</th>\n",
       "      <th>FT</th>\n",
       "      <th>KC</th>\n",
       "      <th>PO</th>\n",
       "      <th>SI</th>\n",
       "      <th>SL</th>\n",
       "    </tr>\n",
       "    <tr>\n",
       "      <th>i</th>\n",
       "      <th></th>\n",
       "      <th></th>\n",
       "      <th></th>\n",
       "      <th></th>\n",
       "      <th></th>\n",
       "      <th></th>\n",
       "      <th></th>\n",
       "      <th></th>\n",
       "      <th></th>\n",
       "      <th></th>\n",
       "      <th></th>\n",
       "      <th></th>\n",
       "    </tr>\n",
       "  </thead>\n",
       "  <tbody>\n",
       "    <tr>\n",
       "      <th>1</th>\n",
       "      <td>332</td>\n",
       "      <td>269</td>\n",
       "      <td>0</td>\n",
       "      <td>200</td>\n",
       "      <td>1431</td>\n",
       "      <td>0</td>\n",
       "      <td>38</td>\n",
       "      <td>451</td>\n",
       "      <td>76</td>\n",
       "      <td>0</td>\n",
       "      <td>209</td>\n",
       "      <td>473</td>\n",
       "    </tr>\n",
       "    <tr>\n",
       "      <th>2</th>\n",
       "      <td>348</td>\n",
       "      <td>319</td>\n",
       "      <td>0</td>\n",
       "      <td>171</td>\n",
       "      <td>1191</td>\n",
       "      <td>0</td>\n",
       "      <td>37</td>\n",
       "      <td>373</td>\n",
       "      <td>84</td>\n",
       "      <td>0</td>\n",
       "      <td>205</td>\n",
       "      <td>500</td>\n",
       "    </tr>\n",
       "    <tr>\n",
       "      <th>3</th>\n",
       "      <td>423</td>\n",
       "      <td>324</td>\n",
       "      <td>1</td>\n",
       "      <td>206</td>\n",
       "      <td>1115</td>\n",
       "      <td>0</td>\n",
       "      <td>28</td>\n",
       "      <td>363</td>\n",
       "      <td>76</td>\n",
       "      <td>4</td>\n",
       "      <td>178</td>\n",
       "      <td>545</td>\n",
       "    </tr>\n",
       "    <tr>\n",
       "      <th>4</th>\n",
       "      <td>425</td>\n",
       "      <td>285</td>\n",
       "      <td>4</td>\n",
       "      <td>200</td>\n",
       "      <td>1067</td>\n",
       "      <td>0</td>\n",
       "      <td>33</td>\n",
       "      <td>414</td>\n",
       "      <td>89</td>\n",
       "      <td>1</td>\n",
       "      <td>156</td>\n",
       "      <td>549</td>\n",
       "    </tr>\n",
       "    <tr>\n",
       "      <th>5</th>\n",
       "      <td>406</td>\n",
       "      <td>320</td>\n",
       "      <td>6</td>\n",
       "      <td>202</td>\n",
       "      <td>1046</td>\n",
       "      <td>0</td>\n",
       "      <td>40</td>\n",
       "      <td>366</td>\n",
       "      <td>67</td>\n",
       "      <td>2</td>\n",
       "      <td>229</td>\n",
       "      <td>570</td>\n",
       "    </tr>\n",
       "    <tr>\n",
       "      <th>6</th>\n",
       "      <td>346</td>\n",
       "      <td>297</td>\n",
       "      <td>3</td>\n",
       "      <td>148</td>\n",
       "      <td>1129</td>\n",
       "      <td>0</td>\n",
       "      <td>44</td>\n",
       "      <td>344</td>\n",
       "      <td>68</td>\n",
       "      <td>0</td>\n",
       "      <td>294</td>\n",
       "      <td>697</td>\n",
       "    </tr>\n",
       "    <tr>\n",
       "      <th>7</th>\n",
       "      <td>282</td>\n",
       "      <td>219</td>\n",
       "      <td>1</td>\n",
       "      <td>205</td>\n",
       "      <td>1153</td>\n",
       "      <td>3</td>\n",
       "      <td>76</td>\n",
       "      <td>214</td>\n",
       "      <td>56</td>\n",
       "      <td>2</td>\n",
       "      <td>444</td>\n",
       "      <td>669</td>\n",
       "    </tr>\n",
       "    <tr>\n",
       "      <th>8</th>\n",
       "      <td>274</td>\n",
       "      <td>275</td>\n",
       "      <td>0</td>\n",
       "      <td>211</td>\n",
       "      <td>1313</td>\n",
       "      <td>0</td>\n",
       "      <td>51</td>\n",
       "      <td>234</td>\n",
       "      <td>56</td>\n",
       "      <td>0</td>\n",
       "      <td>261</td>\n",
       "      <td>650</td>\n",
       "    </tr>\n",
       "    <tr>\n",
       "      <th>9</th>\n",
       "      <td>223</td>\n",
       "      <td>136</td>\n",
       "      <td>0</td>\n",
       "      <td>204</td>\n",
       "      <td>1009</td>\n",
       "      <td>0</td>\n",
       "      <td>31</td>\n",
       "      <td>171</td>\n",
       "      <td>74</td>\n",
       "      <td>2</td>\n",
       "      <td>244</td>\n",
       "      <td>406</td>\n",
       "    </tr>\n",
       "  </tbody>\n",
       "</table>\n",
       "</div>"
      ],
      "text/plain": [
       "pitch_type   CH   CU  EP   FC    FF  FO  FS   FT  KC  PO   SI   SL\n",
       "i                                                                 \n",
       "1           332  269   0  200  1431   0  38  451  76   0  209  473\n",
       "2           348  319   0  171  1191   0  37  373  84   0  205  500\n",
       "3           423  324   1  206  1115   0  28  363  76   4  178  545\n",
       "4           425  285   4  200  1067   0  33  414  89   1  156  549\n",
       "5           406  320   6  202  1046   0  40  366  67   2  229  570\n",
       "6           346  297   3  148  1129   0  44  344  68   0  294  697\n",
       "7           282  219   1  205  1153   3  76  214  56   2  444  669\n",
       "8           274  275   0  211  1313   0  51  234  56   0  261  650\n",
       "9           223  136   0  204  1009   0  31  171  74   2  244  406"
      ]
     },
     "execution_count": 16,
     "metadata": {},
     "output_type": "execute_result"
    }
   ],
   "source": [
    "# Other misc built-in summary functions\n",
    "# pp['pitch_type'].value_counts()\n",
    "\n",
    "# pp['pitch_type'].value_counts(normalize=True)\n",
    "\n",
    "pd.crosstab(pp['i'], pp['pitch_type']).head(9)\n"
   ]
  }
 ],
 "metadata": {
  "kernelspec": {
   "display_name": "Python 3 (ipykernel)",
   "language": "python",
   "name": "python3"
  },
  "language_info": {
   "codemirror_mode": {
    "name": "ipython",
    "version": 3
   },
   "file_extension": ".py",
   "mimetype": "text/x-python",
   "name": "python",
   "nbconvert_exporter": "python",
   "pygments_lexer": "ipython3",
   "version": "3.9.12"
  }
 },
 "nbformat": 4,
 "nbformat_minor": 5
}
