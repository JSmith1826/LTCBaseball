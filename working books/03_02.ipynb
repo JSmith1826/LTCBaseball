{
 "cells": [
  {
   "cell_type": "code",
   "execution_count": 7,
   "id": "1340d5b9",
   "metadata": {},
   "outputs": [
    {
     "name": "stderr",
     "output_type": "stream",
     "text": [
      "C:\\Users\\Justin\\AppData\\Local\\Temp\\ipykernel_20044\\1985749426.py:14: FutureWarning: Dropping of nuisance columns in DataFrame reductions (with 'numeric_only=None') is deprecated; in a future version this will raise TypeError.  Select only valid columns before calling the reduction.\n",
      "  atbats.mean()\n"
     ]
    },
    {
     "data": {
      "text/plain": [
       "name        Zack Cozart\n",
       "year               2018\n",
       "stint                 2\n",
       "team                WAS\n",
       "lg                   NL\n",
       "G                   162\n",
       "AB                  664\n",
       "R                   129\n",
       "H                   192\n",
       "2B                   51\n",
       "3B                   12\n",
       "HR                   48\n",
       "RBI               130.0\n",
       "SB                 45.0\n",
       "CS                 14.0\n",
       "BB                  130\n",
       "SO                217.0\n",
       "IBB                25.0\n",
       "HBP                22.0\n",
       "SH                 12.0\n",
       "SF                 11.0\n",
       "GIDP               23.0\n",
       "playerID      zuninmi01\n",
       "dtype: object"
      ]
     },
     "execution_count": 7,
     "metadata": {},
     "output_type": "execute_result"
    }
   ],
   "source": [
    "#### SETUP\n",
    "\n",
    "## Depemdemcies\n",
    "\n",
    "import pandas as pd\n",
    "from os import path\n",
    "\n",
    "# Define global variables\n",
    "DATA_DIR = \"C:/Users/Justin/Desktop/ltcwbb-files/data\"\n",
    "\n",
    "atbats = pd.read_csv(path.join(DATA_DIR, '2018-season', 'atbats.csv'))\n",
    "                         \n",
    "## Test\n",
    "atbats.mean()\n",
    "atbats.max()"
   ]
  },
  {
   "cell_type": "code",
   "execution_count": 12,
   "id": "14b301c5",
   "metadata": {},
   "outputs": [
    {
     "data": {
      "text/html": [
       "<div>\n",
       "<style scoped>\n",
       "    .dataframe tbody tr th:only-of-type {\n",
       "        vertical-align: middle;\n",
       "    }\n",
       "\n",
       "    .dataframe tbody tr th {\n",
       "        vertical-align: top;\n",
       "    }\n",
       "\n",
       "    .dataframe thead th {\n",
       "        text-align: right;\n",
       "    }\n",
       "</style>\n",
       "<table border=\"1\" class=\"dataframe\">\n",
       "  <thead>\n",
       "    <tr style=\"text-align: right;\">\n",
       "      <th></th>\n",
       "      <th>name</th>\n",
       "      <th>1B</th>\n",
       "    </tr>\n",
       "  </thead>\n",
       "  <tbody>\n",
       "    <tr>\n",
       "      <th>0</th>\n",
       "      <td>Jose Abreu</td>\n",
       "      <td>73</td>\n",
       "    </tr>\n",
       "    <tr>\n",
       "      <th>1</th>\n",
       "      <td>Ronald Acuna</td>\n",
       "      <td>71</td>\n",
       "    </tr>\n",
       "    <tr>\n",
       "      <th>2</th>\n",
       "      <td>Willy Adames</td>\n",
       "      <td>63</td>\n",
       "    </tr>\n",
       "    <tr>\n",
       "      <th>3</th>\n",
       "      <td>Matt Adams</td>\n",
       "      <td>37</td>\n",
       "    </tr>\n",
       "    <tr>\n",
       "      <th>4</th>\n",
       "      <td>Jim Adduci</td>\n",
       "      <td>34</td>\n",
       "    </tr>\n",
       "  </tbody>\n",
       "</table>\n",
       "</div>"
      ],
      "text/plain": [
       "           name  1B\n",
       "0    Jose Abreu  73\n",
       "1  Ronald Acuna  71\n",
       "2  Willy Adames  63\n",
       "3    Matt Adams  37\n",
       "4    Jim Adduci  34"
      ]
     },
     "execution_count": 12,
     "metadata": {},
     "output_type": "execute_result"
    }
   ],
   "source": [
    "### Axis\n",
    "\n",
    "#atbats[['G', 'AB', 'R', 'H', 'HR']].mean(axis=0)\n",
    "\n",
    "# Inspect top rows\n",
    "# bats[['G', 'AB', 'R', 'H', 'HR']].mean(axis=0).head()\n",
    "\n",
    "\n",
    "atbats['1B'] = atbats['H'] - atbats[['2B', '3B', 'HR']].sum(axis=1)\n",
    "atbats[['name', '1B']].head()\n"
   ]
  }
 ],
 "metadata": {
  "kernelspec": {
   "display_name": "Python 3 (ipykernel)",
   "language": "python",
   "name": "python3"
  },
  "language_info": {
   "codemirror_mode": {
    "name": "ipython",
    "version": 3
   },
   "file_extension": ".py",
   "mimetype": "text/x-python",
   "name": "python",
   "nbconvert_exporter": "python",
   "pygments_lexer": "ipython3",
   "version": "3.9.12"
  }
 },
 "nbformat": 4,
 "nbformat_minor": 5
}
